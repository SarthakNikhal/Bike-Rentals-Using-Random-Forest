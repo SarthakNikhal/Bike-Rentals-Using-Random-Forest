{
 "cells": [
  {
   "cell_type": "markdown",
   "metadata": {},
   "source": [
    "# Predicting bike rentals using Random Forests\n",
    "In this project, we will analyze the dataset that contains the hourly and daily count of rental bikes between years 2011 and 2012 in Capital bikeshare system with the corresponding weather and seasonal information sourced from UCI. We will be predicting total number of bike rentals using decision trees and random forests. We implement and fit the data using Linear Regression, Decision Trees and Random Forests.\n",
    "\n",
    "### About the data\n",
    "Bike-sharing systems are an upgraded version of traditional bike rentals, where the entire process—membership, rental, and return—is automated. Users can rent a bike from one location and return it to another. Currently, there are over 500 bike-sharing programs worldwide with more than 500,000 bicycles. These systems are gaining popularity due to their benefits for traffic, the environment, and health.\n",
    "\n",
    "Besides their real-world use, the data from bike-sharing systems is valuable for research. Unlike buses or subways, these systems record travel duration, start and end locations, making them useful for tracking city mobility. This data can act as a virtual sensor network, helping detect important events in the city.\n",
    "\n",
    "So, let's begin with analysis!\n",
    "\n"
   ]
  },
  {
   "cell_type": "markdown",
   "metadata": {},
   "source": [
    "### Importing libraries and exploring data\n",
    "\n",
    "Let's import the necessary libraries and load the bike rental dataset. We use pandas for handling data and seaborn and matplotlib for creating visualizations. The command %matplotlib inline ensures that plots appear directly in the notebook. The dataset, bike_rental_hour.csv, is read into a pandas DataFrame called bike_rentals. "
   ]
  },
  {
   "cell_type": "code",
   "execution_count": 1,
   "metadata": {},
   "outputs": [
    {
     "name": "stdout",
     "output_type": "stream",
     "text": [
      "(17379, 17)\n"
     ]
    },
    {
     "data": {
      "text/html": [
       "<div>\n",
       "<style scoped>\n",
       "    .dataframe tbody tr th:only-of-type {\n",
       "        vertical-align: middle;\n",
       "    }\n",
       "\n",
       "    .dataframe tbody tr th {\n",
       "        vertical-align: top;\n",
       "    }\n",
       "\n",
       "    .dataframe thead th {\n",
       "        text-align: right;\n",
       "    }\n",
       "</style>\n",
       "<table border=\"1\" class=\"dataframe\">\n",
       "  <thead>\n",
       "    <tr style=\"text-align: right;\">\n",
       "      <th></th>\n",
       "      <th>instant</th>\n",
       "      <th>dteday</th>\n",
       "      <th>season</th>\n",
       "      <th>yr</th>\n",
       "      <th>mnth</th>\n",
       "      <th>hr</th>\n",
       "      <th>holiday</th>\n",
       "      <th>weekday</th>\n",
       "      <th>workingday</th>\n",
       "      <th>weathersit</th>\n",
       "      <th>temp</th>\n",
       "      <th>atemp</th>\n",
       "      <th>hum</th>\n",
       "      <th>windspeed</th>\n",
       "      <th>casual</th>\n",
       "      <th>registered</th>\n",
       "      <th>cnt</th>\n",
       "    </tr>\n",
       "  </thead>\n",
       "  <tbody>\n",
       "    <tr>\n",
       "      <th>0</th>\n",
       "      <td>1</td>\n",
       "      <td>2011-01-01</td>\n",
       "      <td>1</td>\n",
       "      <td>0</td>\n",
       "      <td>1</td>\n",
       "      <td>0</td>\n",
       "      <td>0</td>\n",
       "      <td>6</td>\n",
       "      <td>0</td>\n",
       "      <td>1</td>\n",
       "      <td>0.24</td>\n",
       "      <td>0.2879</td>\n",
       "      <td>0.81</td>\n",
       "      <td>0.0</td>\n",
       "      <td>3</td>\n",
       "      <td>13</td>\n",
       "      <td>16</td>\n",
       "    </tr>\n",
       "    <tr>\n",
       "      <th>1</th>\n",
       "      <td>2</td>\n",
       "      <td>2011-01-01</td>\n",
       "      <td>1</td>\n",
       "      <td>0</td>\n",
       "      <td>1</td>\n",
       "      <td>1</td>\n",
       "      <td>0</td>\n",
       "      <td>6</td>\n",
       "      <td>0</td>\n",
       "      <td>1</td>\n",
       "      <td>0.22</td>\n",
       "      <td>0.2727</td>\n",
       "      <td>0.80</td>\n",
       "      <td>0.0</td>\n",
       "      <td>8</td>\n",
       "      <td>32</td>\n",
       "      <td>40</td>\n",
       "    </tr>\n",
       "    <tr>\n",
       "      <th>2</th>\n",
       "      <td>3</td>\n",
       "      <td>2011-01-01</td>\n",
       "      <td>1</td>\n",
       "      <td>0</td>\n",
       "      <td>1</td>\n",
       "      <td>2</td>\n",
       "      <td>0</td>\n",
       "      <td>6</td>\n",
       "      <td>0</td>\n",
       "      <td>1</td>\n",
       "      <td>0.22</td>\n",
       "      <td>0.2727</td>\n",
       "      <td>0.80</td>\n",
       "      <td>0.0</td>\n",
       "      <td>5</td>\n",
       "      <td>27</td>\n",
       "      <td>32</td>\n",
       "    </tr>\n",
       "    <tr>\n",
       "      <th>3</th>\n",
       "      <td>4</td>\n",
       "      <td>2011-01-01</td>\n",
       "      <td>1</td>\n",
       "      <td>0</td>\n",
       "      <td>1</td>\n",
       "      <td>3</td>\n",
       "      <td>0</td>\n",
       "      <td>6</td>\n",
       "      <td>0</td>\n",
       "      <td>1</td>\n",
       "      <td>0.24</td>\n",
       "      <td>0.2879</td>\n",
       "      <td>0.75</td>\n",
       "      <td>0.0</td>\n",
       "      <td>3</td>\n",
       "      <td>10</td>\n",
       "      <td>13</td>\n",
       "    </tr>\n",
       "    <tr>\n",
       "      <th>4</th>\n",
       "      <td>5</td>\n",
       "      <td>2011-01-01</td>\n",
       "      <td>1</td>\n",
       "      <td>0</td>\n",
       "      <td>1</td>\n",
       "      <td>4</td>\n",
       "      <td>0</td>\n",
       "      <td>6</td>\n",
       "      <td>0</td>\n",
       "      <td>1</td>\n",
       "      <td>0.24</td>\n",
       "      <td>0.2879</td>\n",
       "      <td>0.75</td>\n",
       "      <td>0.0</td>\n",
       "      <td>0</td>\n",
       "      <td>1</td>\n",
       "      <td>1</td>\n",
       "    </tr>\n",
       "  </tbody>\n",
       "</table>\n",
       "</div>"
      ],
      "text/plain": [
       "   instant      dteday  season  yr  mnth  hr  holiday  weekday  workingday  \\\n",
       "0        1  2011-01-01       1   0     1   0        0        6           0   \n",
       "1        2  2011-01-01       1   0     1   1        0        6           0   \n",
       "2        3  2011-01-01       1   0     1   2        0        6           0   \n",
       "3        4  2011-01-01       1   0     1   3        0        6           0   \n",
       "4        5  2011-01-01       1   0     1   4        0        6           0   \n",
       "\n",
       "   weathersit  temp   atemp   hum  windspeed  casual  registered  cnt  \n",
       "0           1  0.24  0.2879  0.81        0.0       3          13   16  \n",
       "1           1  0.22  0.2727  0.80        0.0       8          32   40  \n",
       "2           1  0.22  0.2727  0.80        0.0       5          27   32  \n",
       "3           1  0.24  0.2879  0.75        0.0       3          10   13  \n",
       "4           1  0.24  0.2879  0.75        0.0       0           1    1  "
      ]
     },
     "execution_count": 1,
     "metadata": {},
     "output_type": "execute_result"
    }
   ],
   "source": [
    "import pandas as pd\n",
    "import seaborn as sns\n",
    "import matplotlib.pyplot as plt\n",
    "%matplotlib inline\n",
    "\n",
    "bike_rentals = pd.read_csv(\"bike_rental_hour.csv\")\n",
    "print(bike_rentals.shape)\n",
    "bike_rentals.head()"
   ]
  },
  {
   "cell_type": "markdown",
   "metadata": {},
   "source": [
    "### Visualizing frequency distribution of target column.\n",
    "Now, visualize the distribution of the total bike rentals (cnt column). We create a histogram using hist(), which shows how often different rental counts occur. This helps in understanding the pattern of bike rentals."
   ]
  },
  {
   "cell_type": "code",
   "execution_count": 2,
   "metadata": {},
   "outputs": [
    {
     "data": {
      "text/plain": [
       "<matplotlib.axes._subplots.AxesSubplot at 0x7fee3c5faf98>"
      ]
     },
     "execution_count": 2,
     "metadata": {},
     "output_type": "execute_result"
    },
    {
     "data": {
      "image/png": "[encoded data removed]",
      "text/plain": [
       "<matplotlib.figure.Figure at 0x7fee90565320>"
      ]
     },
     "metadata": {},
     "output_type": "display_data"
    }
   ],
   "source": [
    "bike_rentals[\"cnt\"].hist()"
   ]
  },
  {
   "cell_type": "markdown",
   "metadata": {},
   "source": [
    "### Visualizing correlations between columns.\n",
    "\n",
    "We analyze the correlations between different features in the dataset by generating a heatmap using sns.heatmap(). This heatmap visually represents the correlation matrix of the DataFrame, helping us identify possible relationships between variables."
   ]
  },
  {
   "cell_type": "code",
   "execution_count": 1,
   "metadata": {},
   "outputs": [
    {
     "ename": "NameError",
     "evalue": "name 'sns' is not defined",
     "output_type": "error",
     "traceback": [
      "\u001b[1;31m---------------------------------------------------------------------------\u001b[0m",
      "\u001b[1;31mNameError\u001b[0m                                 Traceback (most recent call last)",
      "Cell \u001b[1;32mIn[1], line 1\u001b[0m\n\u001b[1;32m----> 1\u001b[0m \u001b[43msns\u001b[49m\u001b[38;5;241m.\u001b[39mheatmap(bike_rentals\u001b[38;5;241m.\u001b[39mcorr())\n",
      "\u001b[1;31mNameError\u001b[0m: name 'sns' is not defined"
     ]
    }
   ],
   "source": [
    "sns.heatmap(bike_rentals.corr())"
   ]
  },
  {
   "cell_type": "markdown",
   "metadata": {},
   "source": [
    "### Creating new column to categorize different times in a day based on the hour column of the original data.\n",
    "\n",
    "We create a new feature called time_label to categorize different times of the day. A function named assign_label is defined to assign a label (1, 2, 3, or 4) based on the hour of the day. We then apply this function to the hr (hour) column in the DataFrame to generate the time_label column. Finally, we display a random sample of five rows from the updated DataFrame."
   ]
  },
  {
   "cell_type": "code",
   "execution_count": 4,
   "metadata": {},
   "outputs": [
    {
     "data": {
      "text/html": [
       "<div>\n",
       "<style scoped>\n",
       "    .dataframe tbody tr th:only-of-type {\n",
       "        vertical-align: middle;\n",
       "    }\n",
       "\n",
       "    .dataframe tbody tr th {\n",
       "        vertical-align: top;\n",
       "    }\n",
       "\n",
       "    .dataframe thead th {\n",
       "        text-align: right;\n",
       "    }\n",
       "</style>\n",
       "<table border=\"1\" class=\"dataframe\">\n",
       "  <thead>\n",
       "    <tr style=\"text-align: right;\">\n",
       "      <th></th>\n",
       "      <th>instant</th>\n",
       "      <th>dteday</th>\n",
       "      <th>season</th>\n",
       "      <th>yr</th>\n",
       "      <th>mnth</th>\n",
       "      <th>hr</th>\n",
       "      <th>holiday</th>\n",
       "      <th>weekday</th>\n",
       "      <th>workingday</th>\n",
       "      <th>weathersit</th>\n",
       "      <th>temp</th>\n",
       "      <th>atemp</th>\n",
       "      <th>hum</th>\n",
       "      <th>windspeed</th>\n",
       "      <th>casual</th>\n",
       "      <th>registered</th>\n",
       "      <th>cnt</th>\n",
       "      <th>time_label</th>\n",
       "    </tr>\n",
       "  </thead>\n",
       "  <tbody>\n",
       "    <tr>\n",
       "      <th>16909</th>\n",
       "      <td>16910</td>\n",
       "      <td>2012-12-12</td>\n",
       "      <td>4</td>\n",
       "      <td>1</td>\n",
       "      <td>12</td>\n",
       "      <td>8</td>\n",
       "      <td>0</td>\n",
       "      <td>3</td>\n",
       "      <td>1</td>\n",
       "      <td>2</td>\n",
       "      <td>0.26</td>\n",
       "      <td>0.2576</td>\n",
       "      <td>0.65</td>\n",
       "      <td>0.1642</td>\n",
       "      <td>18</td>\n",
       "      <td>670</td>\n",
       "      <td>688</td>\n",
       "      <td>1</td>\n",
       "    </tr>\n",
       "    <tr>\n",
       "      <th>5909</th>\n",
       "      <td>5910</td>\n",
       "      <td>2011-09-08</td>\n",
       "      <td>3</td>\n",
       "      <td>0</td>\n",
       "      <td>9</td>\n",
       "      <td>18</td>\n",
       "      <td>0</td>\n",
       "      <td>4</td>\n",
       "      <td>1</td>\n",
       "      <td>3</td>\n",
       "      <td>0.64</td>\n",
       "      <td>0.5606</td>\n",
       "      <td>0.94</td>\n",
       "      <td>0.3582</td>\n",
       "      <td>2</td>\n",
       "      <td>66</td>\n",
       "      <td>68</td>\n",
       "      <td>3</td>\n",
       "    </tr>\n",
       "    <tr>\n",
       "      <th>6253</th>\n",
       "      <td>6254</td>\n",
       "      <td>2011-09-23</td>\n",
       "      <td>4</td>\n",
       "      <td>0</td>\n",
       "      <td>9</td>\n",
       "      <td>3</td>\n",
       "      <td>0</td>\n",
       "      <td>5</td>\n",
       "      <td>1</td>\n",
       "      <td>2</td>\n",
       "      <td>0.60</td>\n",
       "      <td>0.5000</td>\n",
       "      <td>1.00</td>\n",
       "      <td>0.0000</td>\n",
       "      <td>3</td>\n",
       "      <td>5</td>\n",
       "      <td>8</td>\n",
       "      <td>4</td>\n",
       "    </tr>\n",
       "    <tr>\n",
       "      <th>17014</th>\n",
       "      <td>17015</td>\n",
       "      <td>2012-12-16</td>\n",
       "      <td>4</td>\n",
       "      <td>1</td>\n",
       "      <td>12</td>\n",
       "      <td>17</td>\n",
       "      <td>0</td>\n",
       "      <td>0</td>\n",
       "      <td>0</td>\n",
       "      <td>2</td>\n",
       "      <td>0.38</td>\n",
       "      <td>0.3939</td>\n",
       "      <td>0.82</td>\n",
       "      <td>0.1045</td>\n",
       "      <td>29</td>\n",
       "      <td>214</td>\n",
       "      <td>243</td>\n",
       "      <td>2</td>\n",
       "    </tr>\n",
       "    <tr>\n",
       "      <th>9031</th>\n",
       "      <td>9032</td>\n",
       "      <td>2012-01-17</td>\n",
       "      <td>1</td>\n",
       "      <td>1</td>\n",
       "      <td>1</td>\n",
       "      <td>5</td>\n",
       "      <td>0</td>\n",
       "      <td>2</td>\n",
       "      <td>1</td>\n",
       "      <td>3</td>\n",
       "      <td>0.32</td>\n",
       "      <td>0.3030</td>\n",
       "      <td>0.66</td>\n",
       "      <td>0.3284</td>\n",
       "      <td>0</td>\n",
       "      <td>13</td>\n",
       "      <td>13</td>\n",
       "      <td>4</td>\n",
       "    </tr>\n",
       "  </tbody>\n",
       "</table>\n",
       "</div>"
      ],
      "text/plain": [
       "       instant      dteday  season  yr  mnth  hr  holiday  weekday  \\\n",
       "16909    16910  2012-12-12       4   1    12   8        0        3   \n",
       "5909      5910  2011-09-08       3   0     9  18        0        4   \n",
       "6253      6254  2011-09-23       4   0     9   3        0        5   \n",
       "17014    17015  2012-12-16       4   1    12  17        0        0   \n",
       "9031      9032  2012-01-17       1   1     1   5        0        2   \n",
       "\n",
       "       workingday  weathersit  temp   atemp   hum  windspeed  casual  \\\n",
       "16909           1           2  0.26  0.2576  0.65     0.1642      18   \n",
       "5909            1           3  0.64  0.5606  0.94     0.3582       2   \n",
       "6253            1           2  0.60  0.5000  1.00     0.0000       3   \n",
       "17014           0           2  0.38  0.3939  0.82     0.1045      29   \n",
       "9031            1           3  0.32  0.3030  0.66     0.3284       0   \n",
       "\n",
       "       registered  cnt  time_label  \n",
       "16909         670  688           1  \n",
       "5909           66   68           3  \n",
       "6253            5    8           4  \n",
       "17014         214  243           2  \n",
       "9031           13   13           4  "
      ]
     },
     "execution_count": 4,
     "metadata": {},
     "output_type": "execute_result"
    }
   ],
   "source": [
    "def assign_label(row):\n",
    "    hour = row\n",
    "    if hour < 6:\n",
    "        return 4\n",
    "    elif hour < 12:\n",
    "        return 1\n",
    "    elif hour < 18:\n",
    "        return 2\n",
    "    else:\n",
    "        return 3\n",
    "    \n",
    "bike_rentals[\"time_label\"] = bike_rentals[\"hr\"].apply(assign_label)\n",
    "bike_rentals.sample(5)"
   ]
  },
  {
   "cell_type": "markdown",
   "metadata": {},
   "source": [
    "### Error Metric\n",
    "The mean squared error metric makes the most sense to evaluate our error. MSE works on continuous numeric data, which fits our data quite well.\n",
    "\n",
    "### Splitting the data.\n",
    "We split the data into training and testing sets by calculating the index for an 80-20 split. Using this index, we create two new DataFrames: train for training (80% of the data) and test for testing (20% of the data)."
   ]
  },
  {
   "cell_type": "code",
   "execution_count": 5,
   "metadata": {},
   "outputs": [],
   "source": [
    "splitting_index = round(0.8 * len(bike_rentals))\n",
    "train = bike_rentals[:splitting_index]\n",
    "test = bike_rentals[splitting_index:]"
   ]
  },
  {
   "cell_type": "markdown",
   "metadata": {},
   "source": [
    "### Linear Regression - Training and Error.\n",
    "\n",
    "We create and train a Linear Regression model by initializing a LinearRegression object and fitting it to the training data using selected features. After training, we use the model to predict bike rentals on the test data. Finally, we evaluate the model's performance by calculating the Root Mean Squared Error (RMSE), which measures the difference between actual and predicted values."
   ]
  },
  {
   "cell_type": "code",
   "execution_count": 6,
   "metadata": {},
   "outputs": [
    {
     "data": {
      "text/plain": [
       "171.06184873751826"
      ]
     },
     "execution_count": 6,
     "metadata": {},
     "output_type": "execute_result"
    }
   ],
   "source": [
    "from sklearn.linear_model import LinearRegression\n",
    "from sklearn.metrics import mean_squared_error\n",
    "\n",
    "features = [\"season\", \"yr\", \"mnth\", \"hr\", \"holiday\", \"workingday\", \"weathersit\", \"temp\", \"hum\", \"windspeed\", \"time_label\"]\n",
    "\n",
    "lr = LinearRegression()\n",
    "lr.fit(train[features], train[\"cnt\"])\n",
    "predictions = lr.predict(test[features])\n",
    "\n",
    "rmse = mean_squared_error(test[\"cnt\"], predictions) ** 0.5\n",
    "rmse"
   ]
  },
  {
   "cell_type": "markdown",
   "metadata": {},
   "source": [
    "Error is quite high. May be due to the fact that the data has a few extremely high rental counts, but otherwise mostly low counts.\n",
    "\n",
    "### Decision Tree : Training and error\n",
    "\n",
    "Let's try the Decision Tree algorithm to see if it gives us a better model. It is more complex and could perform better."
   ]
  },
  {
   "cell_type": "code",
   "execution_count": 7,
   "metadata": {},
   "outputs": [
    {
     "data": {
      "text/plain": [
       "98.87639978190948"
      ]
     },
     "execution_count": 7,
     "metadata": {},
     "output_type": "execute_result"
    }
   ],
   "source": [
    "from sklearn.tree import DecisionTreeRegressor\n",
    "\n",
    "dtr = DecisionTreeRegressor()\n",
    "dtr.fit(train[features], train[\"cnt\"])\n",
    "predictions2 = dtr.predict(test[features])\n",
    "\n",
    "rmse = mean_squared_error(test[\"cnt\"], predictions2) ** 0.5\n",
    "rmse"
   ]
  },
  {
   "cell_type": "markdown",
   "metadata": {},
   "source": [
    "The error has dropped significantly. Let's see if the model is overfitiing by looking at the predictions on training set. Later, we will tweak some parameters of the model to see if it improves the model."
   ]
  },
  {
   "cell_type": "code",
   "execution_count": 8,
   "metadata": {},
   "outputs": [
    {
     "data": {
      "text/plain": [
       "1.9164280681296233"
      ]
     },
     "execution_count": 8,
     "metadata": {},
     "output_type": "execute_result"
    }
   ],
   "source": [
    "predictions1 = dtr.predict(train[features])\n",
    "\n",
    "rmse = mean_squared_error(train[\"cnt\"], predictions1) ** 0.5\n",
    "rmse"
   ]
  },
  {
   "cell_type": "markdown",
   "metadata": {},
   "source": [
    "There is good chance the model is overfitting. Let's tweak some parameters."
   ]
  },
  {
   "cell_type": "code",
   "execution_count": 9,
   "metadata": {},
   "outputs": [
    {
     "name": "stdout",
     "output_type": "stream",
     "text": [
      "43.06866550476459\n"
     ]
    },
    {
     "data": {
      "text/plain": [
       "84.25360241363614"
      ]
     },
     "execution_count": 9,
     "metadata": {},
     "output_type": "execute_result"
    }
   ],
   "source": [
    "dtr = DecisionTreeRegressor(min_samples_split = 36, min_samples_leaf = 4) # 36,4 -> 84.25\n",
    "dtr.fit(train[features], train[\"cnt\"])\n",
    "\n",
    "predictions1 = dtr.predict(train[features])\n",
    "rmse = mean_squared_error(train[\"cnt\"], predictions1) ** 0.5\n",
    "print(rmse)\n",
    "\n",
    "predictions2 = dtr.predict(test[features])\n",
    "rmse = mean_squared_error(test[\"cnt\"], predictions2) ** 0.5\n",
    "rmse"
   ]
  },
  {
   "cell_type": "markdown",
   "metadata": {},
   "source": [
    "After a lot of trial and error, the optimum parameters to be found, bring the train error is 43.06 and test error is 84.25.\n",
    "\n",
    "Let's use random forest algorithm, which works better than decision tree algorithm.\n",
    "\n",
    "### Random Forest : Training and error"
   ]
  },
  {
   "cell_type": "code",
   "execution_count": 10,
   "metadata": {},
   "outputs": [
    {
     "name": "stdout",
     "output_type": "stream",
     "text": [
      "18.758794619455966\n"
     ]
    },
    {
     "data": {
      "text/plain": [
       "76.71835680343504"
      ]
     },
     "execution_count": 10,
     "metadata": {},
     "output_type": "execute_result"
    }
   ],
   "source": [
    "from sklearn.ensemble import RandomForestRegressor\n",
    "\n",
    "rfr = RandomForestRegressor() \n",
    "rfr.fit(train[features], train[\"cnt\"])\n",
    "\n",
    "predictions1 = rfr.predict(train[features])\n",
    "rmse = mean_squared_error(train[\"cnt\"], predictions1) ** 0.5\n",
    "print(rmse)\n",
    "\n",
    "predictions2 = rfr.predict(test[features])\n",
    "rmse = mean_squared_error(test[\"cnt\"], predictions2) ** 0.5\n",
    "rmse"
   ]
  },
  {
   "cell_type": "markdown",
   "metadata": {},
   "source": [
    "After some trial and error, the optimum hyperparameters were the ones calculated. The train error is 18.46 and the test error is 77.02\n",
    "\n",
    "This model can be used to get a fair prediction of rentals in the future. "
   ]
  },
  {
   "cell_type": "markdown",
   "metadata": {},
   "source": [
    "#### Summary and Future Work\n",
    "\n",
    "This project predicts the total number of bike rentals based on weather, time of day, season, and holidays. Bike rental companies can use these predictions to optimize operations and meet customer demand efficiently.\n",
    "\n",
    "The dataset includes hourly bike rental data along with weather and seasonal conditions. Key features include temperature, humidity, wind speed, time-related factors (hour, day, month, year), seasons, and whether it is a holiday or a working day.\n",
    "\n",
    "To develop the model, we first applied Linear Regression, but it produced high errors. We then used a Decision Tree model, which improved accuracy but led to overfitting. To solve this, we implemented a Random Forest model, which delivered the best performance by reducing errors on both training and testing data. We evaluated the model’s accuracy using the Root Mean Squared Error (RMSE) metric.\n",
    "\n",
    "The trained model enables real-time demand prediction, dynamic pricing, resource allocation, infrastructure planning, targeted marketing, and integration with other transportation services.\n",
    "\n",
    "In the future, we plan to engineer new features, fine-tune hyperparameters, test advanced algorithms like Gradient Boosting and Neural Networks, apply time series analysis, and develop a real-time prediction system with a user-friendly interface. We also aim to collaborate with bike rental companies and open-source the project to expand its impact.\n",
    "\n",
    "In conclusion, we successfully built a machine learning-based bike rental prediction model that helps bike rental companies and city planners make data-driven decisions. By continuously improving and implementing the model, we can maximize its benefits and improve bike-sharing systems."
   ]
  },
  {
   "cell_type": "markdown",
   "metadata": {},
   "source": [
    "### Final Note\n",
    "\n",
    "The bike rental prediction model and data can be used in several practical ways to improve bike-sharing systems. Real-time predictions can help bike rental companies allocate bikes efficiently based on factors like weather and time of day. Dynamic pricing can be implemented to adjust rental costs depending on demand, increasing revenue during peak times and encouraging rentals during low-demand periods. The model also aids in resource optimization, helping companies plan staff schedules, bike maintenance, and distribution more effectively. Additionally, insights from historical and predicted data can guide infrastructure planning, ensuring rental stations are placed where demand is highest. Marketing strategies can also benefit, as companies can target promotions to specific customer groups or time periods. Integrating the model with public transportation and ride-sharing services can provide users with a seamless travel experience. To maintain accuracy, continuous data collection and model retraining are necessary, and incorporating external factors like holidays or special events can further improve predictions. Lastly, user feedback can refine the model to better meet customer needs. By using these insights, bike rental companies and city planners can enhance operations, improve customer experiences, and make bike-sharing more efficient."
   ]
  },
  {
   "cell_type": "code",
   "execution_count": null,
   "metadata": {},
   "outputs": [],
   "source": []
  }
 ],
 "metadata": {
  "kernelspec": {
   "display_name": "Python 3 (ipykernel)",
   "language": "python",
   "name": "python3"
  },
  "language_info": {
   "codemirror_mode": {
    "name": "ipython",
    "version": 3
   },
   "file_extension": ".py",
   "mimetype": "text/x-python",
   "name": "python",
   "nbconvert_exporter": "python",
   "pygments_lexer": "ipython3",
   "version": "3.12.2"
  }
 },
 "nbformat": 4,
 "nbformat_minor": 4
}
